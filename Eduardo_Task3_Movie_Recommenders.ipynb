{
 "cells": [
  {
   "cell_type": "markdown",
   "metadata": {},
   "source": [
    "# Guidelines"
   ]
  },
  {
   "cell_type": "markdown",
   "metadata": {},
   "source": [
    "This task tests your ability to apply Recommendation Engine concepts and techniques to a real-world Movie Recommender System.\n",
    "\n",
    "\n",
    "\n",
    "Task: Build a Movie Recommender system with the following methods:\n",
    "\n",
    "## -Popularity,\n",
    "\n",
    "## -Content Filter,\n",
    "\n",
    "## -Collaborative Filter,\n",
    "\n",
    "## -Matrix Factorization\n",
    "\n",
    "\n",
    "\n",
    "Also, try the following libraries on the dataset:\n",
    "\n",
    "## Turicreate\n",
    "\n",
    "## Surprise\n",
    "\n",
    "\n",
    "Dataset: MovieLens 20M \n",
    "\n",
    "Source: https://grouplens.org/datasets/movielens/20m/\n",
    "\n",
    "\n",
    "\n",
    "Hints:\n",
    "\n",
    "1. Read Movies.csv, Ratings.csv and Tags.csv. No need for genome-scores.csv, genome-tags.csv\n",
    "\n",
    "2. Create content filtering method on metadata obtained from merging movies and tags\n",
    "\n",
    "3. Metadata should be formed from joining all tag field for each movie_title.\n",
    "\n",
    "4. Build a Tfidf Vectorizer model and TruncatedSVD for Content filter - Latent matrix 1 on this data\n",
    "\n",
    "5. Create a Collab filter on User Movie matrix (formed from pivot table on ratings data)\n",
    "\n",
    "6. Create a Latent matrix 2 on this data\n",
    "\n",
    "7. Code hybrid model\n",
    "\n",
    "\n",
    "\n",
    "Open a fresh notebook(.ipynb) and Name it as with the following convention:\n",
    "\n",
    "If your name is Vejey Gandyer, your filename for ipynb should be \"Vejey_Task3_Movie_Recommenders.ipynb\".\n",
    "\n",
    "\n",
    "\n",
    "Start creating cells and put the logic as and when required. \n",
    "\n",
    "\n",
    "\n",
    "Save the notebook and Submit the notebook (.ipynb).\n",
    "\n",
    "\n",
    "\n",
    "\n",
    "\n",
    "Note: Use GPU for this task. It will take days to compute in CPU :)\n",
    "\n",
    "\n",
    "\n",
    "Try using Kaggle Kernel, Google Colab or Your OWN local GPU machine.\n",
    "\n",
    "\n",
    "\n",
    "\n",
    "\n",
    "Have fun learning. All the very best."
   ]
  },
  {
   "cell_type": "markdown",
   "metadata": {},
   "source": [
    "## Downloading packages"
   ]
  },
  {
   "cell_type": "code",
   "execution_count": 2,
   "metadata": {},
   "outputs": [
    {
     "name": "stdout",
     "output_type": "stream",
     "text": [
      "Collecting surprise\n",
      "  Using cached surprise-0.1-py2.py3-none-any.whl (1.8 kB)\n",
      "Collecting scikit-surprise\n",
      "  Using cached scikit_surprise-1.1.1-cp38-cp38-win_amd64.whl\n",
      "Requirement already satisfied: joblib>=0.11 in c:\\users\\eduar\\anaconda3\\lib\\site-packages (from scikit-surprise->surprise) (1.0.1)\n",
      "Requirement already satisfied: numpy>=1.11.2 in c:\\users\\eduar\\anaconda3\\lib\\site-packages (from scikit-surprise->surprise) (1.20.3)\n",
      "Requirement already satisfied: scipy>=1.0.0 in c:\\users\\eduar\\anaconda3\\lib\\site-packages (from scikit-surprise->surprise) (1.7.1)\n",
      "Requirement already satisfied: six>=1.10.0 in c:\\users\\eduar\\anaconda3\\lib\\site-packages (from scikit-surprise->surprise) (1.16.0)\n",
      "Installing collected packages: scikit-surprise, surprise\n",
      "Successfully installed scikit-surprise-1.1.1 surprise-0.1\n"
     ]
    }
   ],
   "source": [
    "#!pip install surprise"
   ]
  },
  {
   "cell_type": "code",
   "execution_count": 2,
   "metadata": {},
   "outputs": [
    {
     "name": "stdout",
     "output_type": "stream",
     "text": [
      "Collecting scikit-surprise\n",
      "  Using cached scikit_surprise-1.1.1-cp38-cp38-win_amd64.whl\n",
      "Requirement already satisfied: six>=1.10.0 in c:\\users\\eduar\\anaconda3\\envs\\pycharmlearningproject\\lib\\site-packages (from scikit-surprise) (1.16.0)\n",
      "Requirement already satisfied: numpy>=1.11.2 in c:\\users\\eduar\\anaconda3\\envs\\pycharmlearningproject\\lib\\site-packages (from scikit-surprise) (1.20.3)\n",
      "Requirement already satisfied: joblib>=0.11 in c:\\users\\eduar\\anaconda3\\envs\\pycharmlearningproject\\lib\\site-packages (from scikit-surprise) (1.1.0)\n",
      "Requirement already satisfied: scipy>=1.0.0 in c:\\users\\eduar\\anaconda3\\envs\\pycharmlearningproject\\lib\\site-packages (from scikit-surprise) (1.7.2)\n",
      "Installing collected packages: scikit-surprise\n",
      "Successfully installed scikit-surprise-1.1.1\n"
     ]
    }
   ],
   "source": [
    "#!pip install scikit-surprise"
   ]
  },
  {
   "cell_type": "markdown",
   "metadata": {},
   "source": [
    "## importing packages"
   ]
  },
  {
   "cell_type": "code",
   "execution_count": 1,
   "metadata": {},
   "outputs": [],
   "source": [
    "import pandas as pd\n",
    "import numpy as np\n",
    "import matplotlib.pyplot as plt\n",
    "import re\n",
    "import seaborn as sns\n",
    "\n",
    "import pandas as pd\n",
    "import pickle\n",
    "from sklearn.feature_extraction.text import TfidfVectorizer\n",
    "from sklearn.decomposition import TruncatedSVD\n",
    "from surprise import Dataset, Reader, accuracy, SVD\n",
    "from surprise.model_selection import train_test_split\n",
    "import sys"
   ]
  },
  {
   "cell_type": "markdown",
   "metadata": {},
   "source": [
    "## Importing datasets"
   ]
  },
  {
   "cell_type": "code",
   "execution_count": 2,
   "metadata": {},
   "outputs": [],
   "source": [
    "movies=pd.read_csv('movies.csv')\n",
    "ratings =pd.read_csv('ratings.csv')\n",
    "tags=pd.read_csv('tags.csv')"
   ]
  },
  {
   "cell_type": "markdown",
   "metadata": {},
   "source": [
    "# Preparing datasets\n",
    "I coded this notebook entirely using CPU, whitout GPU. In order to do that I've applied a filter on the data so that I keep in the dataset only the users with at least 250 movie ratings. This keeps 93 of the movies but uses only 15.6% of the users. This makes the dataset way less big and also, doesnt compromose the accuracy."
   ]
  },
  {
   "cell_type": "code",
   "execution_count": 3,
   "metadata": {},
   "outputs": [
    {
     "data": {
      "text/html": [
       "<div>\n",
       "<style scoped>\n",
       "    .dataframe tbody tr th:only-of-type {\n",
       "        vertical-align: middle;\n",
       "    }\n",
       "\n",
       "    .dataframe tbody tr th {\n",
       "        vertical-align: top;\n",
       "    }\n",
       "\n",
       "    .dataframe thead th {\n",
       "        text-align: right;\n",
       "    }\n",
       "</style>\n",
       "<table border=\"1\" class=\"dataframe\">\n",
       "  <thead>\n",
       "    <tr style=\"text-align: right;\">\n",
       "      <th></th>\n",
       "      <th>movieId</th>\n",
       "      <th>title</th>\n",
       "      <th>genres</th>\n",
       "    </tr>\n",
       "  </thead>\n",
       "  <tbody>\n",
       "    <tr>\n",
       "      <th>0</th>\n",
       "      <td>1</td>\n",
       "      <td>Toy Story (1995)</td>\n",
       "      <td>Adventure|Animation|Children|Comedy|Fantasy</td>\n",
       "    </tr>\n",
       "    <tr>\n",
       "      <th>1</th>\n",
       "      <td>2</td>\n",
       "      <td>Jumanji (1995)</td>\n",
       "      <td>Adventure|Children|Fantasy</td>\n",
       "    </tr>\n",
       "    <tr>\n",
       "      <th>2</th>\n",
       "      <td>3</td>\n",
       "      <td>Grumpier Old Men (1995)</td>\n",
       "      <td>Comedy|Romance</td>\n",
       "    </tr>\n",
       "    <tr>\n",
       "      <th>3</th>\n",
       "      <td>4</td>\n",
       "      <td>Waiting to Exhale (1995)</td>\n",
       "      <td>Comedy|Drama|Romance</td>\n",
       "    </tr>\n",
       "    <tr>\n",
       "      <th>4</th>\n",
       "      <td>5</td>\n",
       "      <td>Father of the Bride Part II (1995)</td>\n",
       "      <td>Comedy</td>\n",
       "    </tr>\n",
       "  </tbody>\n",
       "</table>\n",
       "</div>"
      ],
      "text/plain": [
       "   movieId                               title  \\\n",
       "0        1                    Toy Story (1995)   \n",
       "1        2                      Jumanji (1995)   \n",
       "2        3             Grumpier Old Men (1995)   \n",
       "3        4            Waiting to Exhale (1995)   \n",
       "4        5  Father of the Bride Part II (1995)   \n",
       "\n",
       "                                        genres  \n",
       "0  Adventure|Animation|Children|Comedy|Fantasy  \n",
       "1                   Adventure|Children|Fantasy  \n",
       "2                               Comedy|Romance  \n",
       "3                         Comedy|Drama|Romance  \n",
       "4                                       Comedy  "
      ]
     },
     "execution_count": 3,
     "metadata": {},
     "output_type": "execute_result"
    }
   ],
   "source": [
    "movies.head(5)"
   ]
  },
  {
   "cell_type": "code",
   "execution_count": 4,
   "metadata": {},
   "outputs": [
    {
     "data": {
      "text/html": [
       "<div>\n",
       "<style scoped>\n",
       "    .dataframe tbody tr th:only-of-type {\n",
       "        vertical-align: middle;\n",
       "    }\n",
       "\n",
       "    .dataframe tbody tr th {\n",
       "        vertical-align: top;\n",
       "    }\n",
       "\n",
       "    .dataframe thead th {\n",
       "        text-align: right;\n",
       "    }\n",
       "</style>\n",
       "<table border=\"1\" class=\"dataframe\">\n",
       "  <thead>\n",
       "    <tr style=\"text-align: right;\">\n",
       "      <th></th>\n",
       "      <th>userId</th>\n",
       "      <th>movieId</th>\n",
       "      <th>rating</th>\n",
       "      <th>timestamp</th>\n",
       "    </tr>\n",
       "  </thead>\n",
       "  <tbody>\n",
       "    <tr>\n",
       "      <th>0</th>\n",
       "      <td>1</td>\n",
       "      <td>296</td>\n",
       "      <td>5.0</td>\n",
       "      <td>1147880044</td>\n",
       "    </tr>\n",
       "    <tr>\n",
       "      <th>1</th>\n",
       "      <td>1</td>\n",
       "      <td>306</td>\n",
       "      <td>3.5</td>\n",
       "      <td>1147868817</td>\n",
       "    </tr>\n",
       "    <tr>\n",
       "      <th>2</th>\n",
       "      <td>1</td>\n",
       "      <td>307</td>\n",
       "      <td>5.0</td>\n",
       "      <td>1147868828</td>\n",
       "    </tr>\n",
       "    <tr>\n",
       "      <th>3</th>\n",
       "      <td>1</td>\n",
       "      <td>665</td>\n",
       "      <td>5.0</td>\n",
       "      <td>1147878820</td>\n",
       "    </tr>\n",
       "    <tr>\n",
       "      <th>4</th>\n",
       "      <td>1</td>\n",
       "      <td>899</td>\n",
       "      <td>3.5</td>\n",
       "      <td>1147868510</td>\n",
       "    </tr>\n",
       "  </tbody>\n",
       "</table>\n",
       "</div>"
      ],
      "text/plain": [
       "   userId  movieId  rating   timestamp\n",
       "0       1      296     5.0  1147880044\n",
       "1       1      306     3.5  1147868817\n",
       "2       1      307     5.0  1147868828\n",
       "3       1      665     5.0  1147878820\n",
       "4       1      899     3.5  1147868510"
      ]
     },
     "execution_count": 4,
     "metadata": {},
     "output_type": "execute_result"
    }
   ],
   "source": [
    "ratings.head(5)"
   ]
  },
  {
   "cell_type": "code",
   "execution_count": 5,
   "metadata": {},
   "outputs": [
    {
     "data": {
      "text/html": [
       "<div>\n",
       "<style scoped>\n",
       "    .dataframe tbody tr th:only-of-type {\n",
       "        vertical-align: middle;\n",
       "    }\n",
       "\n",
       "    .dataframe tbody tr th {\n",
       "        vertical-align: top;\n",
       "    }\n",
       "\n",
       "    .dataframe thead th {\n",
       "        text-align: right;\n",
       "    }\n",
       "</style>\n",
       "<table border=\"1\" class=\"dataframe\">\n",
       "  <thead>\n",
       "    <tr style=\"text-align: right;\">\n",
       "      <th></th>\n",
       "      <th>userId</th>\n",
       "      <th>movieId</th>\n",
       "      <th>tag</th>\n",
       "      <th>timestamp</th>\n",
       "    </tr>\n",
       "  </thead>\n",
       "  <tbody>\n",
       "    <tr>\n",
       "      <th>0</th>\n",
       "      <td>3</td>\n",
       "      <td>260</td>\n",
       "      <td>classic</td>\n",
       "      <td>1439472355</td>\n",
       "    </tr>\n",
       "    <tr>\n",
       "      <th>1</th>\n",
       "      <td>3</td>\n",
       "      <td>260</td>\n",
       "      <td>sci-fi</td>\n",
       "      <td>1439472256</td>\n",
       "    </tr>\n",
       "    <tr>\n",
       "      <th>2</th>\n",
       "      <td>4</td>\n",
       "      <td>1732</td>\n",
       "      <td>dark comedy</td>\n",
       "      <td>1573943598</td>\n",
       "    </tr>\n",
       "    <tr>\n",
       "      <th>3</th>\n",
       "      <td>4</td>\n",
       "      <td>1732</td>\n",
       "      <td>great dialogue</td>\n",
       "      <td>1573943604</td>\n",
       "    </tr>\n",
       "    <tr>\n",
       "      <th>4</th>\n",
       "      <td>4</td>\n",
       "      <td>7569</td>\n",
       "      <td>so bad it's good</td>\n",
       "      <td>1573943455</td>\n",
       "    </tr>\n",
       "  </tbody>\n",
       "</table>\n",
       "</div>"
      ],
      "text/plain": [
       "   userId  movieId               tag   timestamp\n",
       "0       3      260           classic  1439472355\n",
       "1       3      260            sci-fi  1439472256\n",
       "2       4     1732       dark comedy  1573943598\n",
       "3       4     1732    great dialogue  1573943604\n",
       "4       4     7569  so bad it's good  1573943455"
      ]
     },
     "execution_count": 5,
     "metadata": {},
     "output_type": "execute_result"
    }
   ],
   "source": [
    "tags.head()"
   ]
  },
  {
   "cell_type": "code",
   "execution_count": 6,
   "metadata": {},
   "outputs": [
    {
     "data": {
      "image/png": "[encoded data removed]",
      "text/plain": [
       "<Figure size 720x360 with 1 Axes>"
      ]
     },
     "metadata": {
      "needs_background": "light"
     },
     "output_type": "display_data"
    }
   ],
   "source": [
    "histogram = ratings[['userId','rating']].groupby('userId').mean()\n",
    "histogram.plot(kind='hist', bins=50, grid=0, edgecolor='black', figsize=(10,5))\n",
    "plt.xlim(0,5)\n",
    "plt.legend()\n",
    "plt.xlabel ('Average Movie rating')\n",
    "plt.ylabel ('Frequency')\n",
    "plt.title ('Average Ratings per User')\n",
    "plt.show()"
   ]
  },
  {
   "cell_type": "code",
   "execution_count": 7,
   "metadata": {},
   "outputs": [
    {
     "data": {
      "image/png": "[encoded data removed]",
      "text/plain": [
       "<Figure size 1080x360 with 1 Axes>"
      ]
     },
     "metadata": {
      "needs_background": "light"
     },
     "output_type": "display_data"
    }
   ],
   "source": [
    "# Scatter plot of all users and individual ratings count.\n",
    "plots = ratings[['userId', 'movieId']].groupby('userId').count()\n",
    "plots.columns=['ratings']\n",
    "plt.figure(figsize=(15,5))\n",
    "plt.scatter(plots.index, plots.ratings, edgecolor='black')\n",
    "plt.xlim(0,len(plots.index))\n",
    "plt.ylim(0,)\n",
    "plt.title('Ratings per user')\n",
    "plt.xlabel('Count of userId')\n",
    "plt.ylabel('Number of ratings')\n",
    "plt.show()\n"
   ]
  },
  {
   "cell_type": "code",
   "execution_count": 8,
   "metadata": {},
   "outputs": [
    {
     "data": {
      "image/png": "[encoded data removed]",
      "text/plain": [
       "<Figure size 1080x360 with 1 Axes>"
      ]
     },
     "metadata": {
      "needs_background": "light"
     },
     "output_type": "display_data"
    }
   ],
   "source": [
    "# Histogram of ratings counts.\n",
    "plt.figure(figsize=(15,5))\n",
    "plt.hist(plots.ratings, bins=100, edgecolor='black', log=True)\n",
    "plt.title('Ratings per user')\n",
    "plt.xlabel('Number of ratings')\n",
    "plt.ylabel('Number of userIds')\n",
    "plt.xlim(0,)\n",
    "#plt.xticks(np.arange(0,10000,500))\n",
    "plt.show()"
   ]
  },
  {
   "cell_type": "markdown",
   "metadata": {},
   "source": [
    "##filters the number of movies we can keep-- the reason is my laptop limited power."
   ]
  },
  {
   "cell_type": "code",
   "execution_count": 9,
   "metadata": {},
   "outputs": [
    {
     "name": "stdout",
     "output_type": "stream",
     "text": [
      "This code keeps 93.42 % of the original movie titles, using only  15.68 % of the users. This allows me to get a very good accuracy without compromise performance\n"
     ]
    }
   ],
   "source": [
    "    # filters the number of movies we can keep-- the reason is my laptop limited power.\n",
    "ratings_f = ratings.groupby('userId').filter(lambda x: len(x) >= 250)\n",
    "movie_list_rating = ratings_f.movieId.unique().tolist()\n",
    "\n",
    "print('This code keeps',round(len(ratings_f.movieId.unique())/len(movies.movieId.unique()) * 100,2),'%','of the original movie titles, using only ',\n",
    "      round(len(ratings_f.userId.unique())/len(ratings.userId.unique()) * 100,2),'%',\n",
    "      'of the users. This allows me to get a very good accuracy without compromise performance')"
   ]
  },
  {
   "cell_type": "code",
   "execution_count": 92,
   "metadata": {},
   "outputs": [],
   "source": [
    "# filter the movies data frame\n",
    "movies = movies[movies.movieId.isin(movie_list_rating)]"
   ]
  },
  {
   "cell_type": "code",
   "execution_count": 93,
   "metadata": {},
   "outputs": [],
   "source": [
    "# map movie to id:\n",
    "Mapping_file = dict(zip(movies.title.tolist(), movies.movieId.tolist()))"
   ]
  },
  {
   "cell_type": "code",
   "execution_count": 94,
   "metadata": {},
   "outputs": [
    {
     "name": "stderr",
     "output_type": "stream",
     "text": [
      "C:\\Users\\eduar\\AppData\\Local\\Temp/ipykernel_48620/250184249.py:2: FutureWarning: In a future version of pandas all arguments of DataFrame.drop except for the argument 'labels' will be keyword-only\n",
      "  tags.drop(['timestamp'], 1, inplace=True)\n",
      "C:\\Users\\eduar\\AppData\\Local\\Temp/ipykernel_48620/250184249.py:3: FutureWarning: In a future version of pandas all arguments of DataFrame.drop except for the argument 'labels' will be keyword-only\n",
      "  ratings_f.drop(['timestamp'], 1, inplace=True)\n"
     ]
    }
   ],
   "source": [
    "# remove unnecessary timesteps\n",
    "tags.drop(['timestamp'], 1, inplace=True)\n",
    "ratings_f.drop(['timestamp'], 1, inplace=True)"
   ]
  },
  {
   "cell_type": "code",
   "execution_count": 95,
   "metadata": {},
   "outputs": [],
   "source": [
    "# make a useful dataframe from tags and movies\n",
    "mixed = pd.merge(movies, tags, on='movieId', how='left')"
   ]
  },
  {
   "cell_type": "markdown",
   "metadata": {},
   "source": [
    "##Create content filtering method on metadata obtained from merging movies and tags. \n",
    "Metadata should be formed from joining all tag field for each movie_title."
   ]
  },
  {
   "cell_type": "code",
   "execution_count": 96,
   "metadata": {},
   "outputs": [],
   "source": [
    "# create metadata from all tags and genres\n",
    "mixed.fillna(\"\", inplace=True)\n",
    "mixed = pd.DataFrame(mixed.groupby('movieId')['tag'].apply(\n",
    "                                lambda x: \"%s\" % ' '.join(x)))\n",
    "Final = pd.merge(movies, mixed, on='movieId', how='left')\n",
    "Final['metadata'] = Final[['tag', 'genres']].apply(\n",
    "                                lambda x: ' '.join(x), axis=1)"
   ]
  },
  {
   "cell_type": "markdown",
   "metadata": {},
   "source": [
    "# Build a Tfidf Vectorizer model and TruncatedSVD for Content filter"
   ]
  },
  {
   "cell_type": "code",
   "execution_count": 97,
   "metadata": {},
   "outputs": [],
   "source": [
    "# text transformation and truncated SVD to create a content latent matrix:\n",
    "tfidf = TfidfVectorizer(stop_words='english')\n",
    "tfidf_matrix = tfidf.fit_transform(Final['metadata'])\n",
    "tfidf_df = pd.DataFrame(tfidf_matrix.toarray(), index=Final.index.tolist())\n",
    "svd = TruncatedSVD(n_components=200)\n",
    "latent_matrix_1 = svd.fit_transform(tfidf_df)\n",
    "latent_matrix_1_df = pd.DataFrame(\n",
    "                             latent_matrix_1,\n",
    "                             index=Final.title.tolist())"
   ]
  },
  {
   "cell_type": "code",
   "execution_count": 98,
   "metadata": {},
   "outputs": [
    {
     "data": {
      "image/png": "[encoded data removed]",
      "text/plain": [
       "<Figure size 432x288 with 1 Axes>"
      ]
     },
     "metadata": {
      "needs_background": "light"
     },
     "output_type": "display_data"
    }
   ],
   "source": [
    "# plot var expalined to see what latent dimensions to use\n",
    "explained = svd.explained_variance_ratio_.cumsum()\n",
    "plt.plot(explained, '.-', ms = 16, color='red')\n",
    "plt.xlabel('Singular value components', fontsize= 12)\n",
    "plt.ylabel('Cumulative percent of variance', fontsize=12)        \n",
    "plt.show()"
   ]
  },
  {
   "cell_type": "markdown",
   "metadata": {},
   "source": [
    "## Collaborative Filtering"
   ]
  },
  {
   "cell_type": "code",
   "execution_count": 99,
   "metadata": {},
   "outputs": [],
   "source": [
    "# text transformation and truncated SVD to create a collaborative\n",
    "    # latent matrix:\n",
    "ratings_f1 = pd.merge(movies['movieId'], ratings_f,\n",
    "                          on=\"movieId\", how=\"right\")\n",
    "ratings_f2 = ratings_f1.pivot(\n",
    "                           index='movieId', columns='userId',\n",
    "                           values='rating').fillna(0)\n",
    "svd = TruncatedSVD(n_components=200)\n",
    "latent_matrix_2 = svd.fit_transform(ratings_f2)\n",
    "latent_matrix_2_df = pd.DataFrame(\n",
    "                             latent_matrix_2,\n",
    "                             index=Final.title.tolist())"
   ]
  },
  {
   "cell_type": "code",
   "execution_count": 100,
   "metadata": {},
   "outputs": [
    {
     "data": {
      "image/png": "[encoded data removed]",
      "text/plain": [
       "<Figure size 432x288 with 1 Axes>"
      ]
     },
     "metadata": {
      "needs_background": "light"
     },
     "output_type": "display_data"
    }
   ],
   "source": [
    "# plot variance expalined to see what latent dimensions to use\n",
    "explained = svd.explained_variance_ratio_.cumsum()\n",
    "plt.plot(explained, '.-', ms = 16, color='red')\n",
    "plt.xlabel('Singular value components', fontsize= 12)\n",
    "plt.ylabel('Cumulative percent of variance', fontsize=12)        \n",
    "plt.show()"
   ]
  },
  {
   "cell_type": "markdown",
   "metadata": {},
   "source": [
    "# Surprise"
   ]
  },
  {
   "cell_type": "code",
   "execution_count": 101,
   "metadata": {},
   "outputs": [],
   "source": [
    "# now a user collabortive model using Surprise\n",
    "reader = Reader(rating_scale=(1, 5))\n",
    "data = Dataset.load_from_df(ratings_f1[['userId', 'movieId', 'rating']],\n",
    "                                reader)\n",
    "trainset, testset = train_test_split(data, test_size=.25)\n",
    "algorithm = SVD()"
   ]
  },
  {
   "cell_type": "code",
   "execution_count": 102,
   "metadata": {},
   "outputs": [
    {
     "name": "stdout",
     "output_type": "stream",
     "text": [
      "RMSE: 0.7403\n"
     ]
    },
    {
     "data": {
      "text/plain": [
       "0.7403427823946469"
      ]
     },
     "execution_count": 102,
     "metadata": {},
     "output_type": "execute_result"
    }
   ],
   "source": [
    "# Train the algorithm on the trainset, and predict ratings for the testset\n",
    "algorithm.fit(trainset)\n",
    "accuracy.rmse(algorithm.test(testset))"
   ]
  },
  {
   "cell_type": "code",
   "execution_count": 103,
   "metadata": {},
   "outputs": [
    {
     "data": {
      "text/html": [
       "<div>\n",
       "<style scoped>\n",
       "    .dataframe tbody tr th:only-of-type {\n",
       "        vertical-align: middle;\n",
       "    }\n",
       "\n",
       "    .dataframe tbody tr th {\n",
       "        vertical-align: top;\n",
       "    }\n",
       "\n",
       "    .dataframe thead th {\n",
       "        text-align: right;\n",
       "    }\n",
       "</style>\n",
       "<table border=\"1\" class=\"dataframe\">\n",
       "  <thead>\n",
       "    <tr style=\"text-align: right;\">\n",
       "      <th></th>\n",
       "      <th>content</th>\n",
       "      <th>collaborative</th>\n",
       "      <th>hybrid</th>\n",
       "    </tr>\n",
       "  </thead>\n",
       "  <tbody>\n",
       "    <tr>\n",
       "      <th>Toy Story 2 (1999)</th>\n",
       "      <td>0.911259</td>\n",
       "      <td>0.927260</td>\n",
       "      <td>0.919260</td>\n",
       "    </tr>\n",
       "    <tr>\n",
       "      <th>Bug's Life, A (1998)</th>\n",
       "      <td>0.897454</td>\n",
       "      <td>0.875843</td>\n",
       "      <td>0.886648</td>\n",
       "    </tr>\n",
       "    <tr>\n",
       "      <th>Monsters, Inc. (2001)</th>\n",
       "      <td>0.881555</td>\n",
       "      <td>0.853277</td>\n",
       "      <td>0.867416</td>\n",
       "    </tr>\n",
       "    <tr>\n",
       "      <th>Ratatouille (2007)</th>\n",
       "      <td>0.818596</td>\n",
       "      <td>0.674636</td>\n",
       "      <td>0.746616</td>\n",
       "    </tr>\n",
       "    <tr>\n",
       "      <th>Foul Hunting (1947)</th>\n",
       "      <td>0.813391</td>\n",
       "      <td>0.109660</td>\n",
       "      <td>0.461525</td>\n",
       "    </tr>\n",
       "    <tr>\n",
       "      <th>Finding Nemo (2003)</th>\n",
       "      <td>0.806972</td>\n",
       "      <td>0.831372</td>\n",
       "      <td>0.819172</td>\n",
       "    </tr>\n",
       "    <tr>\n",
       "      <th>The Fox and the Hound 2 (2006)</th>\n",
       "      <td>0.796880</td>\n",
       "      <td>0.177199</td>\n",
       "      <td>0.487040</td>\n",
       "    </tr>\n",
       "    <tr>\n",
       "      <th>Ice Age (2002)</th>\n",
       "      <td>0.787686</td>\n",
       "      <td>0.721465</td>\n",
       "      <td>0.754575</td>\n",
       "    </tr>\n",
       "    <tr>\n",
       "      <th>Lilo &amp; Stitch 2: Stitch has a Glitch (2005)</th>\n",
       "      <td>0.778956</td>\n",
       "      <td>0.141095</td>\n",
       "      <td>0.460026</td>\n",
       "    </tr>\n",
       "    <tr>\n",
       "      <th>Return to Never Land (2002)</th>\n",
       "      <td>0.763521</td>\n",
       "      <td>0.310329</td>\n",
       "      <td>0.536925</td>\n",
       "    </tr>\n",
       "    <tr>\n",
       "      <th>Minions (2015)</th>\n",
       "      <td>0.761667</td>\n",
       "      <td>0.366315</td>\n",
       "      <td>0.563991</td>\n",
       "    </tr>\n",
       "  </tbody>\n",
       "</table>\n",
       "</div>"
      ],
      "text/plain": [
       "                                              content  collaborative    hybrid\n",
       "Toy Story 2 (1999)                           0.911259       0.927260  0.919260\n",
       "Bug's Life, A (1998)                         0.897454       0.875843  0.886648\n",
       "Monsters, Inc. (2001)                        0.881555       0.853277  0.867416\n",
       "Ratatouille (2007)                           0.818596       0.674636  0.746616\n",
       "Foul Hunting (1947)                          0.813391       0.109660  0.461525\n",
       "Finding Nemo (2003)                          0.806972       0.831372  0.819172\n",
       "The Fox and the Hound 2 (2006)               0.796880       0.177199  0.487040\n",
       "Ice Age (2002)                               0.787686       0.721465  0.754575\n",
       "Lilo & Stitch 2: Stitch has a Glitch (2005)  0.778956       0.141095  0.460026\n",
       "Return to Never Land (2002)                  0.763521       0.310329  0.536925\n",
       "Minions (2015)                               0.761667       0.366315  0.563991"
      ]
     },
     "execution_count": 103,
     "metadata": {},
     "output_type": "execute_result"
    }
   ],
   "source": [
    "from sklearn.metrics.pairwise import cosine_similarity\n",
    "# take the latent vectors for a selected movie from both content \n",
    "# and collaborative matrixes\n",
    "a_1 = np.array(latent_matrix_1_df.loc['Toy Story (1995)']).reshape(1, -1)\n",
    "a_2 = np.array(latent_matrix_2_df.loc[\"Toy Story (1995)\"]).reshape(1, -1)\n",
    "\n",
    "# calculate the similartity of this movie with the others in the list\n",
    "score_1 = cosine_similarity(latent_matrix_1_df, a_1).reshape(-1)\n",
    "score_2 = cosine_similarity(latent_matrix_2_df, a_2).reshape(-1)\n",
    "\n",
    "# an average measure of both content and collaborative \n",
    "hybrid = ((score_1 + score_2)/2.0)\n",
    "\n",
    "# form a data frame of similar movies \n",
    "dictDf = {'content': score_1 , 'collaborative': score_2, 'hybrid': hybrid} \n",
    "# dictDf = {'collaborative': score_2} \n",
    "similar = pd.DataFrame(dictDf, index = latent_matrix_2_df.index )\n",
    "\n",
    "#sort it on the basis of either: content, collaborative or hybrid, \n",
    "# here : content\n",
    "similar.sort_values('content', ascending=False, inplace=True)\n",
    "\n",
    "similar[1:].head(11)"
   ]
  },
  {
   "cell_type": "code",
   "execution_count": 104,
   "metadata": {},
   "outputs": [
    {
     "data": {
      "text/html": [
       "<div>\n",
       "<style scoped>\n",
       "    .dataframe tbody tr th:only-of-type {\n",
       "        vertical-align: middle;\n",
       "    }\n",
       "\n",
       "    .dataframe tbody tr th {\n",
       "        vertical-align: top;\n",
       "    }\n",
       "\n",
       "    .dataframe thead th {\n",
       "        text-align: right;\n",
       "    }\n",
       "</style>\n",
       "<table border=\"1\" class=\"dataframe\">\n",
       "  <thead>\n",
       "    <tr style=\"text-align: right;\">\n",
       "      <th></th>\n",
       "      <th>content</th>\n",
       "      <th>collaborative</th>\n",
       "      <th>hybrid</th>\n",
       "    </tr>\n",
       "  </thead>\n",
       "  <tbody>\n",
       "    <tr>\n",
       "      <th>Toy Story 2 (1999)</th>\n",
       "      <td>0.911259</td>\n",
       "      <td>0.927260</td>\n",
       "      <td>0.919260</td>\n",
       "    </tr>\n",
       "    <tr>\n",
       "      <th>Jurassic Park (1993)</th>\n",
       "      <td>0.105146</td>\n",
       "      <td>0.889209</td>\n",
       "      <td>0.497177</td>\n",
       "    </tr>\n",
       "    <tr>\n",
       "      <th>Forrest Gump (1994)</th>\n",
       "      <td>0.194385</td>\n",
       "      <td>0.886086</td>\n",
       "      <td>0.540236</td>\n",
       "    </tr>\n",
       "    <tr>\n",
       "      <th>Lion King, The (1994)</th>\n",
       "      <td>0.637394</td>\n",
       "      <td>0.881440</td>\n",
       "      <td>0.759417</td>\n",
       "    </tr>\n",
       "    <tr>\n",
       "      <th>Men in Black (a.k.a. MIB) (1997)</th>\n",
       "      <td>0.067629</td>\n",
       "      <td>0.876443</td>\n",
       "      <td>0.472036</td>\n",
       "    </tr>\n",
       "    <tr>\n",
       "      <th>Back to the Future (1985)</th>\n",
       "      <td>0.184255</td>\n",
       "      <td>0.876075</td>\n",
       "      <td>0.530165</td>\n",
       "    </tr>\n",
       "    <tr>\n",
       "      <th>Bug's Life, A (1998)</th>\n",
       "      <td>0.897454</td>\n",
       "      <td>0.875843</td>\n",
       "      <td>0.886648</td>\n",
       "    </tr>\n",
       "    <tr>\n",
       "      <th>Aladdin (1992)</th>\n",
       "      <td>0.680896</td>\n",
       "      <td>0.866900</td>\n",
       "      <td>0.773898</td>\n",
       "    </tr>\n",
       "    <tr>\n",
       "      <th>Shrek (2001)</th>\n",
       "      <td>0.520674</td>\n",
       "      <td>0.858730</td>\n",
       "      <td>0.689702</td>\n",
       "    </tr>\n",
       "    <tr>\n",
       "      <th>Matrix, The (1999)</th>\n",
       "      <td>0.045911</td>\n",
       "      <td>0.857649</td>\n",
       "      <td>0.451780</td>\n",
       "    </tr>\n",
       "    <tr>\n",
       "      <th>Star Wars: Episode IV - A New Hope (1977)</th>\n",
       "      <td>0.070758</td>\n",
       "      <td>0.855134</td>\n",
       "      <td>0.462946</td>\n",
       "    </tr>\n",
       "  </tbody>\n",
       "</table>\n",
       "</div>"
      ],
      "text/plain": [
       "                                            content  collaborative    hybrid\n",
       "Toy Story 2 (1999)                         0.911259       0.927260  0.919260\n",
       "Jurassic Park (1993)                       0.105146       0.889209  0.497177\n",
       "Forrest Gump (1994)                        0.194385       0.886086  0.540236\n",
       "Lion King, The (1994)                      0.637394       0.881440  0.759417\n",
       "Men in Black (a.k.a. MIB) (1997)           0.067629       0.876443  0.472036\n",
       "Back to the Future (1985)                  0.184255       0.876075  0.530165\n",
       "Bug's Life, A (1998)                       0.897454       0.875843  0.886648\n",
       "Aladdin (1992)                             0.680896       0.866900  0.773898\n",
       "Shrek (2001)                               0.520674       0.858730  0.689702\n",
       "Matrix, The (1999)                         0.045911       0.857649  0.451780\n",
       "Star Wars: Episode IV - A New Hope (1977)  0.070758       0.855134  0.462946"
      ]
     },
     "execution_count": 104,
     "metadata": {},
     "output_type": "execute_result"
    }
   ],
   "source": [
    "similar.sort_values('collaborative', ascending=False, inplace=True)\n",
    "\n",
    "similar[1:].head(11)"
   ]
  },
  {
   "cell_type": "code",
   "execution_count": 105,
   "metadata": {},
   "outputs": [
    {
     "data": {
      "text/html": [
       "<div>\n",
       "<style scoped>\n",
       "    .dataframe tbody tr th:only-of-type {\n",
       "        vertical-align: middle;\n",
       "    }\n",
       "\n",
       "    .dataframe tbody tr th {\n",
       "        vertical-align: top;\n",
       "    }\n",
       "\n",
       "    .dataframe thead th {\n",
       "        text-align: right;\n",
       "    }\n",
       "</style>\n",
       "<table border=\"1\" class=\"dataframe\">\n",
       "  <thead>\n",
       "    <tr style=\"text-align: right;\">\n",
       "      <th></th>\n",
       "      <th>content</th>\n",
       "      <th>collaborative</th>\n",
       "      <th>hybrid</th>\n",
       "    </tr>\n",
       "  </thead>\n",
       "  <tbody>\n",
       "    <tr>\n",
       "      <th>Toy Story 2 (1999)</th>\n",
       "      <td>0.911259</td>\n",
       "      <td>0.927260</td>\n",
       "      <td>0.919260</td>\n",
       "    </tr>\n",
       "    <tr>\n",
       "      <th>Bug's Life, A (1998)</th>\n",
       "      <td>0.897454</td>\n",
       "      <td>0.875843</td>\n",
       "      <td>0.886648</td>\n",
       "    </tr>\n",
       "    <tr>\n",
       "      <th>Monsters, Inc. (2001)</th>\n",
       "      <td>0.881555</td>\n",
       "      <td>0.853277</td>\n",
       "      <td>0.867416</td>\n",
       "    </tr>\n",
       "    <tr>\n",
       "      <th>Finding Nemo (2003)</th>\n",
       "      <td>0.806972</td>\n",
       "      <td>0.831372</td>\n",
       "      <td>0.819172</td>\n",
       "    </tr>\n",
       "    <tr>\n",
       "      <th>Aladdin (1992)</th>\n",
       "      <td>0.680896</td>\n",
       "      <td>0.866900</td>\n",
       "      <td>0.773898</td>\n",
       "    </tr>\n",
       "    <tr>\n",
       "      <th>Lion King, The (1994)</th>\n",
       "      <td>0.637394</td>\n",
       "      <td>0.881440</td>\n",
       "      <td>0.759417</td>\n",
       "    </tr>\n",
       "    <tr>\n",
       "      <th>Ice Age (2002)</th>\n",
       "      <td>0.787686</td>\n",
       "      <td>0.721465</td>\n",
       "      <td>0.754575</td>\n",
       "    </tr>\n",
       "    <tr>\n",
       "      <th>Ratatouille (2007)</th>\n",
       "      <td>0.818596</td>\n",
       "      <td>0.674636</td>\n",
       "      <td>0.746616</td>\n",
       "    </tr>\n",
       "    <tr>\n",
       "      <th>Antz (1998)</th>\n",
       "      <td>0.689728</td>\n",
       "      <td>0.747463</td>\n",
       "      <td>0.718596</td>\n",
       "    </tr>\n",
       "    <tr>\n",
       "      <th>Incredibles, The (2004)</th>\n",
       "      <td>0.613848</td>\n",
       "      <td>0.801376</td>\n",
       "      <td>0.707612</td>\n",
       "    </tr>\n",
       "    <tr>\n",
       "      <th>Little Mermaid, The (1989)</th>\n",
       "      <td>0.658868</td>\n",
       "      <td>0.742400</td>\n",
       "      <td>0.700634</td>\n",
       "    </tr>\n",
       "  </tbody>\n",
       "</table>\n",
       "</div>"
      ],
      "text/plain": [
       "                             content  collaborative    hybrid\n",
       "Toy Story 2 (1999)          0.911259       0.927260  0.919260\n",
       "Bug's Life, A (1998)        0.897454       0.875843  0.886648\n",
       "Monsters, Inc. (2001)       0.881555       0.853277  0.867416\n",
       "Finding Nemo (2003)         0.806972       0.831372  0.819172\n",
       "Aladdin (1992)              0.680896       0.866900  0.773898\n",
       "Lion King, The (1994)       0.637394       0.881440  0.759417\n",
       "Ice Age (2002)              0.787686       0.721465  0.754575\n",
       "Ratatouille (2007)          0.818596       0.674636  0.746616\n",
       "Antz (1998)                 0.689728       0.747463  0.718596\n",
       "Incredibles, The (2004)     0.613848       0.801376  0.707612\n",
       "Little Mermaid, The (1989)  0.658868       0.742400  0.700634"
      ]
     },
     "execution_count": 105,
     "metadata": {},
     "output_type": "execute_result"
    }
   ],
   "source": [
    "similar.sort_values('hybrid', ascending=False, inplace=True)\n",
    "\n",
    "similar[1:].head(11)"
   ]
  },
  {
   "cell_type": "markdown",
   "metadata": {},
   "source": [
    "# Hybrid Recommendation System"
   ]
  },
  {
   "cell_type": "code",
   "execution_count": 106,
   "metadata": {},
   "outputs": [],
   "source": [
    "def recommend_similar_movies(title):\n",
    "    # take the latent vectors for a selected movie from both content \n",
    "    # and collaborative matrixes\n",
    "    a_1 = np.array(latent_matrix_1_df.loc[title]).reshape(1, -1)\n",
    "    a_2 = np.array(latent_matrix_2_df.loc[title]).reshape(1, -1)\n",
    "\n",
    "    # calculate the similartity of this movie with the others in the list\n",
    "    score_1 = cosine_similarity(latent_matrix_1_df, a_1).reshape(-1)\n",
    "    score_2 = cosine_similarity(latent_matrix_2_df, a_2).reshape(-1)\n",
    "\n",
    "    # an average measure of both content and collaborative \n",
    "    hybrid = ((score_1 + score_2)/2.0)\n",
    "\n",
    "    # form a data frame of similar movies \n",
    "    dictDf = {'content': score_1 , 'collaborative': score_2, 'hybrid': hybrid} \n",
    "    similar = pd.DataFrame(dictDf, index = latent_matrix_2_df.index )\n",
    "\n",
    "    #sort it on the basis of either: content, collaborative or hybrid\n",
    "    similar.sort_values('hybrid', ascending=False, inplace=True)\n",
    "\n",
    "    print(similar[1:].head(11))"
   ]
  },
  {
   "cell_type": "code",
   "execution_count": 107,
   "metadata": {},
   "outputs": [
    {
     "name": "stdout",
     "output_type": "stream",
     "text": [
      "                             content  collaborative    hybrid\n",
      "Toy Story 2 (1999)          0.911259       0.927260  0.919260\n",
      "Bug's Life, A (1998)        0.897454       0.875843  0.886648\n",
      "Monsters, Inc. (2001)       0.881555       0.853277  0.867416\n",
      "Finding Nemo (2003)         0.806972       0.831372  0.819172\n",
      "Aladdin (1992)              0.680896       0.866900  0.773898\n",
      "Lion King, The (1994)       0.637394       0.881440  0.759417\n",
      "Ice Age (2002)              0.787686       0.721465  0.754575\n",
      "Ratatouille (2007)          0.818596       0.674636  0.746616\n",
      "Antz (1998)                 0.689728       0.747463  0.718596\n",
      "Incredibles, The (2004)     0.613848       0.801376  0.707612\n",
      "Little Mermaid, The (1989)  0.658868       0.742400  0.700634\n"
     ]
    }
   ],
   "source": [
    "recommend_similar_movies(\"Toy Story (1995)\")"
   ]
  },
  {
   "cell_type": "code",
   "execution_count": 108,
   "metadata": {},
   "outputs": [
    {
     "name": "stdout",
     "output_type": "stream",
     "text": [
      "                                  content  collaborative    hybrid\n",
      "World Is Not Enough, The (1999)  0.987157       0.879168  0.933163\n",
      "Tomorrow Never Dies (1997)       0.920224       0.918434  0.919329\n",
      "Die Another Day (2002)           0.987873       0.763227  0.875550\n",
      "Goldfinger (1964)                0.980424       0.767273  0.873848\n",
      "Licence to Kill (1989)           0.988472       0.718103  0.853288\n",
      "From Russia with Love (1963)     0.987870       0.691428  0.839649\n",
      "Dr. No (1962)                    0.973874       0.704636  0.839255\n",
      "Diamonds Are Forever (1971)      0.985429       0.673005  0.829217\n",
      "For Your Eyes Only (1981)        0.983193       0.673117  0.828155\n",
      "Live and Let Die (1973)          0.982238       0.669441  0.825839\n",
      "View to a Kill, A (1985)         0.970500       0.681148  0.825824\n"
     ]
    }
   ],
   "source": [
    "recommend_similar_movies(\"GoldenEye (1995)\")"
   ]
  },
  {
   "cell_type": "code",
   "execution_count": 109,
   "metadata": {},
   "outputs": [
    {
     "name": "stdout",
     "output_type": "stream",
     "text": [
      "                                              content  collaborative    hybrid\n",
      "Mission: Impossible II (2000)                0.776488       0.876882  0.826685\n",
      "True Lies (1994)                             0.632633       0.895313  0.763973\n",
      "Speed (1994)                                 0.565773       0.918202  0.741988\n",
      "Mission: Impossible III (2006)               0.814847       0.639046  0.726947\n",
      "Bourne Identity, The (2002)                  0.709292       0.741810  0.725551\n",
      "Clear and Present Danger (1994)              0.626994       0.767443  0.697219\n",
      "Bourne Supremacy, The (2004)                 0.694982       0.683977  0.689479\n",
      "Die Hard: With a Vengeance (1995)            0.510736       0.844092  0.677414\n",
      "Rock, The (1996)                             0.438919       0.913495  0.676207\n",
      "Mission: Impossible - Ghost Protocol (2011)  0.834099       0.505689  0.669894\n",
      "Air Force One (1997)                         0.514770       0.824556  0.669663\n"
     ]
    }
   ],
   "source": [
    "recommend_similar_movies(\"Mission: Impossible (1996)\")"
   ]
  },
  {
   "cell_type": "markdown",
   "metadata": {},
   "source": [
    "# Turicreate"
   ]
  },
  {
   "cell_type": "code",
   "execution_count": 20,
   "metadata": {},
   "outputs": [
    {
     "name": "stdout",
     "output_type": "stream",
     "text": [
      "Collecting turicreate\n",
      "  Using cached turicreate-6.4.tar.gz (1.9 kB)\n",
      "  Preparing metadata (setup.py): started\n",
      "  Preparing metadata (setup.py): finished with status 'done'\n",
      "Building wheels for collected packages: turicreate\n",
      "  Building wheel for turicreate (setup.py): started\n",
      "  Building wheel for turicreate (setup.py): finished with status 'error'\n",
      "  Running setup.py clean for turicreate\n",
      "Failed to build turicreate\n",
      "Installing collected packages: turicreate\n",
      "    Running setup.py install for turicreate: started\n",
      "    Running setup.py install for turicreate: finished with status 'error'\n"
     ]
    },
    {
     "name": "stderr",
     "output_type": "stream",
     "text": [
      "  ERROR: Command errored out with exit status 1:\n",
      "   command: 'c:\\users\\eduar\\anaconda3\\envs\\pycharmlearningproject\\python.exe' -u -c 'import io, os, sys, setuptools, tokenize; sys.argv[0] = '\"'\"'C:\\\\Users\\\\eduar\\\\AppData\\\\Local\\\\Temp\\\\pip-install-q8clgd9r\\\\turicreate_d613dfda545248ba8fd5fc08e9580bb5\\\\setup.py'\"'\"'; __file__='\"'\"'C:\\\\Users\\\\eduar\\\\AppData\\\\Local\\\\Temp\\\\pip-install-q8clgd9r\\\\turicreate_d613dfda545248ba8fd5fc08e9580bb5\\\\setup.py'\"'\"';f = getattr(tokenize, '\"'\"'open'\"'\"', open)(__file__) if os.path.exists(__file__) else io.StringIO('\"'\"'from setuptools import setup; setup()'\"'\"');code = f.read().replace('\"'\"'\\r\\n'\"'\"', '\"'\"'\\n'\"'\"');f.close();exec(compile(code, __file__, '\"'\"'exec'\"'\"'))' bdist_wheel -d 'C:\\Users\\eduar\\AppData\\Local\\Temp\\pip-wheel-cwha55j_'\n",
      "       cwd: C:\\Users\\eduar\\AppData\\Local\\Temp\\pip-install-q8clgd9r\\turicreate_d613dfda545248ba8fd5fc08e9580bb5\\\n",
      "  Complete output (31 lines):\n",
      "  running bdist_wheel\n",
      "  running build\n",
      "  installing to build\\bdist.win-amd64\\wheel\n",
      "  running install\n",
      "  \n",
      "  \n",
      "  \n",
      "          ==================================================================================\n",
      "          TURICREATE ERROR\n",
      "  \n",
      "          If you see this message, pip install did not find an available binary package\n",
      "          for your system.\n",
      "  \n",
      "          Supported Platforms:\n",
      "              * macOS 10.12+ x86_64.\n",
      "              * Linux x86_64 (including WSL on Windows 10).\n",
      "  \n",
      "          Support Python Versions:\n",
      "              * 2.7\n",
      "              * 3.5\n",
      "              * 3.6\n",
      "              * 3.7\n",
      "              * 3.8\n",
      "  \n",
      "          Another possible cause of this error is an outdated pip version. Try:\n",
      "              `pip install -U pip`\n",
      "  \n",
      "          ==================================================================================\n",
      "  \n",
      "  \n",
      "  \n",
      "  ----------------------------------------\n",
      "  ERROR: Failed building wheel for turicreate\n",
      "    ERROR: Command errored out with exit status 1:\n",
      "     command: 'c:\\users\\eduar\\anaconda3\\envs\\pycharmlearningproject\\python.exe' -u -c 'import io, os, sys, setuptools, tokenize; sys.argv[0] = '\"'\"'C:\\\\Users\\\\eduar\\\\AppData\\\\Local\\\\Temp\\\\pip-install-q8clgd9r\\\\turicreate_d613dfda545248ba8fd5fc08e9580bb5\\\\setup.py'\"'\"'; __file__='\"'\"'C:\\\\Users\\\\eduar\\\\AppData\\\\Local\\\\Temp\\\\pip-install-q8clgd9r\\\\turicreate_d613dfda545248ba8fd5fc08e9580bb5\\\\setup.py'\"'\"';f = getattr(tokenize, '\"'\"'open'\"'\"', open)(__file__) if os.path.exists(__file__) else io.StringIO('\"'\"'from setuptools import setup; setup()'\"'\"');code = f.read().replace('\"'\"'\\r\\n'\"'\"', '\"'\"'\\n'\"'\"');f.close();exec(compile(code, __file__, '\"'\"'exec'\"'\"'))' install --record 'C:\\Users\\eduar\\AppData\\Local\\Temp\\pip-record-gqsbmxlc\\install-record.txt' --single-version-externally-managed --compile --install-headers 'c:\\users\\eduar\\anaconda3\\envs\\pycharmlearningproject\\Include\\turicreate'\n",
      "         cwd: C:\\Users\\eduar\\AppData\\Local\\Temp\\pip-install-q8clgd9r\\turicreate_d613dfda545248ba8fd5fc08e9580bb5\\\n",
      "    Complete output (28 lines):\n",
      "    running install\n",
      "    \n",
      "    \n",
      "    \n",
      "            ==================================================================================\n",
      "            TURICREATE ERROR\n",
      "    \n",
      "            If you see this message, pip install did not find an available binary package\n",
      "            for your system.\n",
      "    \n",
      "            Supported Platforms:\n",
      "                * macOS 10.12+ x86_64.\n",
      "                * Linux x86_64 (including WSL on Windows 10).\n",
      "    \n",
      "            Support Python Versions:\n",
      "                * 2.7\n",
      "                * 3.5\n",
      "                * 3.6\n",
      "                * 3.7\n",
      "                * 3.8\n",
      "    \n",
      "            Another possible cause of this error is an outdated pip version. Try:\n",
      "                `pip install -U pip`\n",
      "    \n",
      "            ==================================================================================\n",
      "    \n",
      "    \n",
      "    \n",
      "    ----------------------------------------\n",
      "ERROR: Command errored out with exit status 1: 'c:\\users\\eduar\\anaconda3\\envs\\pycharmlearningproject\\python.exe' -u -c 'import io, os, sys, setuptools, tokenize; sys.argv[0] = '\"'\"'C:\\\\Users\\\\eduar\\\\AppData\\\\Local\\\\Temp\\\\pip-install-q8clgd9r\\\\turicreate_d613dfda545248ba8fd5fc08e9580bb5\\\\setup.py'\"'\"'; __file__='\"'\"'C:\\\\Users\\\\eduar\\\\AppData\\\\Local\\\\Temp\\\\pip-install-q8clgd9r\\\\turicreate_d613dfda545248ba8fd5fc08e9580bb5\\\\setup.py'\"'\"';f = getattr(tokenize, '\"'\"'open'\"'\"', open)(__file__) if os.path.exists(__file__) else io.StringIO('\"'\"'from setuptools import setup; setup()'\"'\"');code = f.read().replace('\"'\"'\\r\\n'\"'\"', '\"'\"'\\n'\"'\"');f.close();exec(compile(code, __file__, '\"'\"'exec'\"'\"'))' install --record 'C:\\Users\\eduar\\AppData\\Local\\Temp\\pip-record-gqsbmxlc\\install-record.txt' --single-version-externally-managed --compile --install-headers 'c:\\users\\eduar\\anaconda3\\envs\\pycharmlearningproject\\Include\\turicreate' Check the logs for full command output.\n"
     ]
    }
   ],
   "source": [
    "#! pip install turicreate"
   ]
  },
  {
   "cell_type": "code",
   "execution_count": 23,
   "metadata": {},
   "outputs": [
    {
     "name": "stdout",
     "output_type": "stream",
     "text": [
      "Requirement already satisfied: pip in c:\\users\\eduar\\anaconda3\\envs\\pycharmlearningproject\\lib\\site-packages (21.3.1)\n"
     ]
    }
   ],
   "source": [
    "#!pip install -U pip"
   ]
  },
  {
   "cell_type": "code",
   "execution_count": 24,
   "metadata": {},
   "outputs": [
    {
     "name": "stdout",
     "output_type": "stream",
     "text": [
      "Collecting turicreate"
     ]
    },
    {
     "name": "stderr",
     "output_type": "stream",
     "text": [
      "  ERROR: Command errored out with exit status 1:\n",
      "   command: 'c:\\users\\eduar\\anaconda3\\envs\\pycharmlearningproject\\python.exe' -u -c 'import io, os, sys, setuptools, tokenize; sys.argv[0] = '\"'\"'C:\\\\Users\\\\eduar\\\\AppData\\\\Local\\\\Temp\\\\pip-install-6ju_mcy9\\\\turicreate_c3967cc94ca240a18fef52c7a16c3c33\\\\setup.py'\"'\"'; __file__='\"'\"'C:\\\\Users\\\\eduar\\\\AppData\\\\Local\\\\Temp\\\\pip-install-6ju_mcy9\\\\turicreate_c3967cc94ca240a18fef52c7a16c3c33\\\\setup.py'\"'\"';f = getattr(tokenize, '\"'\"'open'\"'\"', open)(__file__) if os.path.exists(__file__) else io.StringIO('\"'\"'from setuptools import setup; setup()'\"'\"');code = f.read().replace('\"'\"'\\r\\n'\"'\"', '\"'\"'\\n'\"'\"');f.close();exec(compile(code, __file__, '\"'\"'exec'\"'\"'))' bdist_wheel -d 'C:\\Users\\eduar\\AppData\\Local\\Temp\\pip-wheel-wtks1zm9'\n",
      "       cwd: C:\\Users\\eduar\\AppData\\Local\\Temp\\pip-install-6ju_mcy9\\turicreate_c3967cc94ca240a18fef52c7a16c3c33\\\n",
      "  Complete output (31 lines):\n",
      "  running bdist_wheel\n",
      "  running build\n",
      "  installing to build\\bdist.win-amd64\\wheel\n",
      "  running install\n",
      "  \n",
      "  \n",
      "  \n",
      "          ==================================================================================\n",
      "          TURICREATE ERROR\n",
      "  \n",
      "          If you see this message, pip install did not find an available binary package\n",
      "          for your system.\n",
      "  \n",
      "          Supported Platforms:\n",
      "              * macOS 10.12+ x86_64.\n",
      "              * Linux x86_64 (including WSL on Windows 10).\n",
      "  \n",
      "          Support Python Versions:\n",
      "              * 2.7\n",
      "              * 3.5\n",
      "              * 3.6\n",
      "              * 3.7\n",
      "              * 3.8\n",
      "  \n",
      "          Another possible cause of this error is an outdated pip version. Try:\n",
      "              `pip install -U pip`\n",
      "  \n",
      "          ==================================================================================\n",
      "  "
     ]
    },
    {
     "name": "stdout",
     "output_type": "stream",
     "text": [
      "\n",
      "  Using cached turicreate-6.4.tar.gz (1.9 kB)\n",
      "  Preparing metadata (setup.py): started\n",
      "  Preparing metadata (setup.py): finished with status 'done'\n",
      "Building wheels for collected packages: turicreate\n",
      "  Building wheel for turicreate (setup.py): started\n",
      "  Building wheel for turicreate (setup.py): finished with status 'error'\n",
      "  Running setup.py clean for turicreate\n",
      "Failed to build turicreate\n",
      "Installing collected packages: turicreate\n",
      "    Running setup.py install for turicreate: started\n",
      "    Running setup.py install for turicreate: finished with status 'error'\n"
     ]
    },
    {
     "name": "stderr",
     "output_type": "stream",
     "text": [
      "\n",
      "  \n",
      "  \n",
      "  ----------------------------------------\n",
      "  ERROR: Failed building wheel for turicreate\n",
      "    ERROR: Command errored out with exit status 1:\n",
      "     command: 'c:\\users\\eduar\\anaconda3\\envs\\pycharmlearningproject\\python.exe' -u -c 'import io, os, sys, setuptools, tokenize; sys.argv[0] = '\"'\"'C:\\\\Users\\\\eduar\\\\AppData\\\\Local\\\\Temp\\\\pip-install-6ju_mcy9\\\\turicreate_c3967cc94ca240a18fef52c7a16c3c33\\\\setup.py'\"'\"'; __file__='\"'\"'C:\\\\Users\\\\eduar\\\\AppData\\\\Local\\\\Temp\\\\pip-install-6ju_mcy9\\\\turicreate_c3967cc94ca240a18fef52c7a16c3c33\\\\setup.py'\"'\"';f = getattr(tokenize, '\"'\"'open'\"'\"', open)(__file__) if os.path.exists(__file__) else io.StringIO('\"'\"'from setuptools import setup; setup()'\"'\"');code = f.read().replace('\"'\"'\\r\\n'\"'\"', '\"'\"'\\n'\"'\"');f.close();exec(compile(code, __file__, '\"'\"'exec'\"'\"'))' install --record 'C:\\Users\\eduar\\AppData\\Local\\Temp\\pip-record-nmpq9udk\\install-record.txt' --single-version-externally-managed --compile --install-headers 'c:\\users\\eduar\\anaconda3\\envs\\pycharmlearningproject\\Include\\turicreate'\n",
      "         cwd: C:\\Users\\eduar\\AppData\\Local\\Temp\\pip-install-6ju_mcy9\\turicreate_c3967cc94ca240a18fef52c7a16c3c33\\\n",
      "    Complete output (28 lines):\n",
      "    running install\n",
      "    \n",
      "    \n",
      "    \n",
      "            ==================================================================================\n",
      "            TURICREATE ERROR\n",
      "    \n",
      "            If you see this message, pip install did not find an available binary package\n",
      "            for your system.\n",
      "    \n",
      "            Supported Platforms:\n",
      "                * macOS 10.12+ x86_64.\n",
      "                * Linux x86_64 (including WSL on Windows 10).\n",
      "    \n",
      "            Support Python Versions:\n",
      "                * 2.7\n",
      "                * 3.5\n",
      "                * 3.6\n",
      "                * 3.7\n",
      "                * 3.8\n",
      "    \n",
      "            Another possible cause of this error is an outdated pip version. Try:\n",
      "                `pip install -U pip`\n",
      "    \n",
      "            ==================================================================================\n",
      "    \n",
      "    \n",
      "    \n",
      "    ----------------------------------------\n",
      "ERROR: Command errored out with exit status 1: 'c:\\users\\eduar\\anaconda3\\envs\\pycharmlearningproject\\python.exe' -u -c 'import io, os, sys, setuptools, tokenize; sys.argv[0] = '\"'\"'C:\\\\Users\\\\eduar\\\\AppData\\\\Local\\\\Temp\\\\pip-install-6ju_mcy9\\\\turicreate_c3967cc94ca240a18fef52c7a16c3c33\\\\setup.py'\"'\"'; __file__='\"'\"'C:\\\\Users\\\\eduar\\\\AppData\\\\Local\\\\Temp\\\\pip-install-6ju_mcy9\\\\turicreate_c3967cc94ca240a18fef52c7a16c3c33\\\\setup.py'\"'\"';f = getattr(tokenize, '\"'\"'open'\"'\"', open)(__file__) if os.path.exists(__file__) else io.StringIO('\"'\"'from setuptools import setup; setup()'\"'\"');code = f.read().replace('\"'\"'\\r\\n'\"'\"', '\"'\"'\\n'\"'\"');f.close();exec(compile(code, __file__, '\"'\"'exec'\"'\"'))' install --record 'C:\\Users\\eduar\\AppData\\Local\\Temp\\pip-record-nmpq9udk\\install-record.txt' --single-version-externally-managed --compile --install-headers 'c:\\users\\eduar\\anaconda3\\envs\\pycharmlearningproject\\Include\\turicreate' Check the logs for full command output.\n"
     ]
    }
   ],
   "source": [
    "#!pip install -U turicreate"
   ]
  },
  {
   "cell_type": "code",
   "execution_count": 22,
   "metadata": {},
   "outputs": [
    {
     "name": "stdout",
     "output_type": "stream",
     "text": [
      "Requirement already satisfied: pip in c:\\users\\eduar\\anaconda3\\envs\\pycharmlearningproject\\lib\\site-packages (21.3.1)\n"
     ]
    }
   ],
   "source": [
    "#!python -m pip install --upgrade pip "
   ]
  },
  {
   "cell_type": "code",
   "execution_count": 21,
   "metadata": {},
   "outputs": [
    {
     "ename": "ModuleNotFoundError",
     "evalue": "No module named 'turicreate'",
     "output_type": "error",
     "traceback": [
      "\u001b[1;31m---------------------------------------------------------------------------\u001b[0m",
      "\u001b[1;31mModuleNotFoundError\u001b[0m                       Traceback (most recent call last)",
      "\u001b[1;32m~\\AppData\\Local\\Temp/ipykernel_48620/763511188.py\u001b[0m in \u001b[0;36m<module>\u001b[1;34m\u001b[0m\n\u001b[1;32m----> 1\u001b[1;33m \u001b[1;32mimport\u001b[0m \u001b[0mturicreate\u001b[0m\u001b[1;33m\u001b[0m\u001b[1;33m\u001b[0m\u001b[0m\n\u001b[0m",
      "\u001b[1;31mModuleNotFoundError\u001b[0m: No module named 'turicreate'"
     ]
    }
   ],
   "source": [
    "#import turicreate"
   ]
  },
  {
   "cell_type": "markdown",
   "metadata": {},
   "source": [
    "## I tried to use Turicreate but I could not make it work correctly in my local computer. So as it is not required for this assignment I gave up on it for now"
   ]
  },
  {
   "cell_type": "code",
   "execution_count": null,
   "metadata": {},
   "outputs": [],
   "source": [
    "#I tried to use Turicreate but I could not make it work correctly in my local computer. So as it is not required for this assignment I gave up on it."
   ]
  },
  {
   "cell_type": "markdown",
   "metadata": {},
   "source": [
    "# Matrix Factorization"
   ]
  },
  {
   "cell_type": "code",
   "execution_count": 10,
   "metadata": {},
   "outputs": [],
   "source": [
    "class MF():\n",
    "    \n",
    "    # Initializing the user-movie rating matrix, no. of latent features, alpha and beta.\n",
    "    def __init__(self, R, K, alpha, beta, iterations):\n",
    "        self.R = R\n",
    "        self.num_users, self.num_items = R.shape\n",
    "        self.K = K\n",
    "        self.alpha = alpha\n",
    "        self.beta = beta\n",
    "        self.iterations = iterations\n",
    "\n",
    "    # Initializing user-feature and movie-feature matrix \n",
    "    def train(self):\n",
    "        self.P = np.random.normal(scale=1./self.K, size=(self.num_users, self.K))\n",
    "        self.Q = np.random.normal(scale=1./self.K, size=(self.num_items, self.K))\n",
    "\n",
    "        # Initializing the bias terms\n",
    "        self.b_u = np.zeros(self.num_users)\n",
    "        self.b_i = np.zeros(self.num_items)\n",
    "        self.b = np.mean(self.R[np.where(self.R != 0)])\n",
    "\n",
    "        # List of training samples\n",
    "        self.samples = [\n",
    "        (i, j, self.R[i, j])\n",
    "        for i in range(self.num_users)\n",
    "        for j in range(self.num_items)\n",
    "        if self.R[i, j] > 0\n",
    "        ]\n",
    "\n",
    "        # Stochastic gradient descent for given number of iterations\n",
    "        training_process = []\n",
    "        for i in range(self.iterations):\n",
    "            np.random.shuffle(self.samples)\n",
    "            self.sgd()\n",
    "            mse = self.mse()\n",
    "            training_process.append((i, mse))\n",
    "            if (i+1) % 20 == 0:\n",
    "                print(\"Iteration: %d ; error = %.4f\" % (i+1, mse))\n",
    "\n",
    "        return training_process\n",
    "\n",
    "    # Computing total mean squared error\n",
    "    def mse(self):\n",
    "        xs, ys = self.R.nonzero()\n",
    "        predicted = self.full_matrix()\n",
    "        error = 0\n",
    "        for x, y in zip(xs, ys):\n",
    "            error += pow(self.R[x, y] - predicted[x, y], 2)\n",
    "        return np.sqrt(error)\n",
    "\n",
    "    # Stochastic gradient descent to get optimized P and Q matrix\n",
    "    def sgd(self):\n",
    "        for i, j, r in self.samples:\n",
    "            prediction = self.get_rating(i, j)\n",
    "            e = (r - prediction)\n",
    "\n",
    "            self.b_u[i] += self.alpha * (e - self.beta * self.b_u[i])\n",
    "            self.b_i[j] += self.alpha * (e - self.beta * self.b_i[j])\n",
    "\n",
    "            self.P[i, :] += self.alpha * (e * self.Q[j, :] - self.beta * self.P[i,:])\n",
    "            self.Q[j, :] += self.alpha * (e * self.P[i, :] - self.beta * self.Q[j,:])\n",
    "\n",
    "    # Ratings for user i and moive j\n",
    "    def get_rating(self, i, j):\n",
    "        prediction = self.b + self.b_u[i] + self.b_i[j] + self.P[i, :].dot(self.Q[j, :].T)\n",
    "        return prediction\n",
    "\n",
    "    # Full user-movie rating matrix\n",
    "    def full_matrix(self):\n",
    "        return mf.b + mf.b_u[:,np.newaxis] + mf.b_i[np.newaxis:,] + mf.P.dot(mf.Q.T)"
   ]
  },
  {
   "cell_type": "code",
   "execution_count": 11,
   "metadata": {},
   "outputs": [
    {
     "name": "stdout",
     "output_type": "stream",
     "text": [
      "This code keeps 92.26 % of the original movie titles, using only  5.98 % of the users. This allows me to get a very good accuracy without compromise performance\n"
     ]
    }
   ],
   "source": [
    "    # filters the number of movies we can keep-- the reason is my laptop limited power.\n",
    "ratings_for_matrix = ratings.groupby('userId').filter(lambda x: len(x) >= 500)\n",
    "movie_list_rating2 = ratings_for_matrix.movieId.unique().tolist()\n",
    "\n",
    "print('This code keeps',round(len(ratings_for_matrix.movieId.unique())/len(movies.movieId.unique()) * 100,2),'%','of the original movie titles, using only ',\n",
    "      round(len(ratings_for_matrix.userId.unique())/len(ratings.userId.unique()) * 100,2),'%',\n",
    "      'of the users. This allows me to get a very good accuracy without compromise performance')"
   ]
  },
  {
   "cell_type": "code",
   "execution_count": 12,
   "metadata": {},
   "outputs": [],
   "source": [
    "R= np.array(ratings_for_matrix.pivot(index = 'userId', columns ='movieId', values = 'rating').fillna(0))"
   ]
  },
  {
   "cell_type": "code",
   "execution_count": 13,
   "metadata": {},
   "outputs": [],
   "source": [
    "mf = MF(R, K=20, alpha=0.001, beta=0.01, iterations=100)\n",
    "training_process = mf.train()\n",
    "print()\n",
    "print(\"P x Q:\")\n",
    "print(mf.full_matrix())\n",
    "print()"
   ]
  },
  {
   "cell_type": "markdown",
   "metadata": {},
   "source": [
    "# Conclusions"
   ]
  },
  {
   "cell_type": "markdown",
   "metadata": {},
   "source": [
    "## The model works pretty well, delivering very good movie recommendations with high accuracy. I am very satisfied with this model results, even though I have filtered data from it. "
   ]
  }
 ],
 "metadata": {
  "interpreter": {
   "hash": "5e1b312a2acce25cf5e545c27acbe720c2e013bcc80dba695842421d4ecbaac9"
  },
  "kernelspec": {
   "display_name": "Python 3",
   "language": "python",
   "name": "python3"
  },
  "language_info": {
   "codemirror_mode": {
    "name": "ipython",
    "version": 3
   },
   "file_extension": ".py",
   "mimetype": "text/x-python",
   "name": "python",
   "nbconvert_exporter": "python",
   "pygments_lexer": "ipython3",
   "version": "3.6.13"
  }
 },
 "nbformat": 4,
 "nbformat_minor": 2
}
